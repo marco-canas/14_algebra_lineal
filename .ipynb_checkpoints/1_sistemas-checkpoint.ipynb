{
 "cells": [
  {
   "cell_type": "markdown",
   "id": "6574ad0e",
   "metadata": {
    "slideshow": {
     "slide_type": "slide"
    }
   },
   "source": [
    "<table align=\"left\">\n",
    "  <td>\n",
    "    <a href=\"https://colab.research.google.com/github/marco-canas/1_algebra/blob/main/classes/ciencia_datos/4_class/4_class_march_1_graficas_funciones.ipynb\" target=\"_parent\"><img src=\"https://colab.research.google.com/assets/colab-badge.svg\" alt=\"Open In Colab\"/></a>\n",
    "  </td>\n",
    "</table>"
   ]
  },
  {
   "cell_type": "markdown",
   "id": "b7e3197e",
   "metadata": {
    "slideshow": {
     "slide_type": "slide"
    }
   },
   "source": [
    "## [Video de apoyo]()  "
   ]
  },
  {
   "cell_type": "markdown",
   "id": "64f6731f",
   "metadata": {
    "slideshow": {
     "slide_type": "slide"
    }
   },
   "source": [
    "# El concepto de matriz y algunas de sus propiedades"
   ]
  },
  {
   "cell_type": "markdown",
   "id": "56451f0e",
   "metadata": {
    "slideshow": {
     "slide_type": "slide"
    }
   },
   "source": [
    "## Objetivo de aprendizaje"
   ]
  },
  {
   "cell_type": "markdown",
   "id": "3f4f205d",
   "metadata": {
    "slideshow": {
     "slide_type": "slide"
    }
   },
   "source": [
    "1. Manejar el concepto de matriz y algunas de sus propiedades\n",
    "2. Plantear un sistema de ecuaciones lineales como un problema de la teoría de matrices\n",
    "3. Aprender a encontrar la solución de un sistema de ecuaciones con $m$ ecuaciones y $n$ incognitas. "
   ]
  },
  {
   "cell_type": "markdown",
   "id": "681e2078",
   "metadata": {
    "slideshow": {
     "slide_type": "slide"
    }
   },
   "source": [
    " Escriba la matriz de orden $7 \\times 3$ tal que \n",
    " \n",
    " $$ a_{ij} = i - 3j \\ \\ \\ \\text{ cuando } i > j  \\text{ por debajo de la diagonal principal}$$\n",
    " \n",
    " $$ a_{ij} = (-1)^{1+j}, \\ \\ \\text{ cuando } i = j \\text{ y } \\text{ (a través de la diagonal principal)} $$\n",
    " \n",
    " $$ a_{ij} =  \\frac{i - 2j}{3} \\ \\ \\ \\text{ para } i < j \\text{  (por encima de la diagonal principal)} $$\n",
    " "
   ]
  },
  {
   "cell_type": "code",
   "execution_count": 13,
   "id": "2c370a38",
   "metadata": {
    "slideshow": {
     "slide_type": "slide"
    }
   },
   "outputs": [
    {
     "data": {
      "text/latex": [
       "$\\displaystyle \\left[\\begin{matrix}0 & 0 & 0\\\\0 & 0 & 0\\\\0 & 0 & 0\\\\0 & 0 & 0\\\\0 & 0 & 0\\\\0 & 0 & 0\\\\0 & 0 & 0\\end{matrix}\\right]$"
      ],
      "text/plain": [
       "Matrix([\n",
       "[0, 0, 0],\n",
       "[0, 0, 0],\n",
       "[0, 0, 0],\n",
       "[0, 0, 0],\n",
       "[0, 0, 0],\n",
       "[0, 0, 0],\n",
       "[0, 0, 0]])"
      ]
     },
     "execution_count": 13,
     "metadata": {},
     "output_type": "execute_result"
    }
   ],
   "source": [
    "import numpy as np \n",
    "\n",
    "from sympy import *\n",
    "\n",
    "A = Matrix.zeros(7,3)\n",
    "A "
   ]
  },
  {
   "cell_type": "code",
   "execution_count": 21,
   "id": "788510e6",
   "metadata": {
    "slideshow": {
     "slide_type": "slide"
    }
   },
   "outputs": [],
   "source": [
    "for i in range(7):\n",
    "    for j in range(3):\n",
    "        I = i+1\n",
    "        J = j+1\n",
    "        if i > j:                      # debajo de la diagonal principal \n",
    "            A[i,j] = I - 3*J\n",
    "        elif i == j:                   # sobre la diagonal principal\n",
    "            A[i,j] = (-1)**(1+J)\n",
    "        elif i < j:                    # encima de la diagonal principal \n",
    "            A[i,j] = Rational((I-2*J),3) \n",
    "        "
   ]
  },
  {
   "cell_type": "code",
   "execution_count": 22,
   "id": "157c53b1",
   "metadata": {
    "slideshow": {
     "slide_type": "slide"
    }
   },
   "outputs": [
    {
     "data": {
      "text/latex": [
       "$\\displaystyle \\left[\\begin{matrix}1 & -1 & - \\frac{5}{3}\\\\-1 & -1 & - \\frac{4}{3}\\\\0 & -3 & 1\\\\1 & -2 & -5\\\\2 & -1 & -4\\\\3 & 0 & -3\\\\4 & 1 & -2\\end{matrix}\\right]$"
      ],
      "text/plain": [
       "Matrix([\n",
       "[ 1, -1, -5/3],\n",
       "[-1, -1, -4/3],\n",
       "[ 0, -3,    1],\n",
       "[ 1, -2,   -5],\n",
       "[ 2, -1,   -4],\n",
       "[ 3,  0,   -3],\n",
       "[ 4,  1,   -2]])"
      ]
     },
     "execution_count": 22,
     "metadata": {},
     "output_type": "execute_result"
    }
   ],
   "source": [
    "A "
   ]
  },
  {
   "cell_type": "markdown",
   "id": "94725430",
   "metadata": {
    "slideshow": {
     "slide_type": "slide"
    }
   },
   "source": [
    "## Descripción verbal del ejercicio anterior. "
   ]
  },
  {
   "cell_type": "markdown",
   "id": "d1c17318",
   "metadata": {},
   "source": []
  },
  {
   "cell_type": "code",
   "execution_count": null,
   "id": "22112c7d",
   "metadata": {},
   "outputs": [],
   "source": []
  }
 ],
 "metadata": {
  "celltoolbar": "Slideshow",
  "kernelspec": {
   "display_name": "Python 3 (ipykernel)",
   "language": "python",
   "name": "python3"
  },
  "language_info": {
   "codemirror_mode": {
    "name": "ipython",
    "version": 3
   },
   "file_extension": ".py",
   "mimetype": "text/x-python",
   "name": "python",
   "nbconvert_exporter": "python",
   "pygments_lexer": "ipython3",
   "version": "3.9.13"
  }
 },
 "nbformat": 4,
 "nbformat_minor": 5
}
