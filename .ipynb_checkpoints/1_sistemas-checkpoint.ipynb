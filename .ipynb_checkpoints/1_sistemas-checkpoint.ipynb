{
 "cells": [
  {
   "cell_type": "markdown",
   "id": "2d722116",
   "metadata": {
    "slideshow": {
     "slide_type": "slide"
    }
   },
   "source": [
    "<table align=\"left\">\n",
    "  <td>\n",
    "    <a href=\"https://colab.research.google.com/github/marco-canas/1_algebra/blob/main/classes/ciencia_datos/4_class/4_class_march_1_graficas_funciones.ipynb\" target=\"_parent\"><img src=\"https://colab.research.google.com/assets/colab-badge.svg\" alt=\"Open In Colab\"/></a>\n",
    "  </td>\n",
    "</table>"
   ]
  },
  {
   "cell_type": "markdown",
   "id": "eca81570",
   "metadata": {
    "slideshow": {
     "slide_type": "slide"
    }
   },
   "source": [
    "## [Video de apoyo]()  "
   ]
  },
  {
   "cell_type": "markdown",
   "id": "1f6c3dc2",
   "metadata": {
    "slideshow": {
     "slide_type": "slide"
    }
   },
   "source": [
    "# El concepto de matriz y algunas de sus propiedades"
   ]
  },
  {
   "cell_type": "markdown",
   "id": "708db09b",
   "metadata": {
    "slideshow": {
     "slide_type": "slide"
    }
   },
   "source": [
    "## Objetivo de aprendizaje"
   ]
  },
  {
   "cell_type": "markdown",
   "id": "ead50c0a",
   "metadata": {
    "slideshow": {
     "slide_type": "slide"
    }
   },
   "source": [
    "1. Manejar el concepto de matriz y algunas de sus propiedades\n",
    "2. Plantear un sistema de ecuaciones lineales como un problema de la teoría de matrices\n",
    "3. Aprender a encontrar la solución de un sistema de ecuaciones con $m$ ecuaciones y $n$ incognitas. "
   ]
  },
  {
   "cell_type": "markdown",
   "id": "d6a3b239",
   "metadata": {
    "slideshow": {
     "slide_type": "slide"
    }
   },
   "source": [
    " Escriba la matriz de orden $7 \\times 3$ tal que \n",
    " \n",
    " $$ a_{ij} = i - 3j \\ \\ \\ \\text{ cuando } i > j  \\text{ por debajo de la diagonal principal}$$\n",
    " \n",
    " $$ a_{ij} = (-1)^{1+j}, \\ \\ \\text{ cuando } i = j \\text{ y } \\text{ (a través de la diagonal principal)} $$\n",
    " \n",
    " $$ a_{ij} =  \\frac{i - 2j}{3} \\ \\ \\ \\text{ para } i < j \\text{  (por encima de la diagonal principal)} $$\n",
    " "
   ]
  },
  {
   "cell_type": "code",
   "execution_count": 1,
   "id": "778fe3ac",
   "metadata": {
    "slideshow": {
     "slide_type": "slide"
    }
   },
   "outputs": [
    {
     "data": {
      "text/plain": [
       "array([[0., 0., 0.],\n",
       "       [0., 0., 0.],\n",
       "       [0., 0., 0.],\n",
       "       [0., 0., 0.],\n",
       "       [0., 0., 0.],\n",
       "       [0., 0., 0.],\n",
       "       [0., 0., 0.]])"
      ]
     },
     "execution_count": 1,
     "metadata": {},
     "output_type": "execute_result"
    }
   ],
   "source": [
    "import numpy as np \n",
    "\n",
    "A = np.zeros((7,3))\n",
    "A "
   ]
  },
  {
   "cell_type": "code",
   "execution_count": 5,
   "id": "ee4bff8c",
   "metadata": {
    "slideshow": {
     "slide_type": "slide"
    }
   },
   "outputs": [],
   "source": [
    "for i in range(7):\n",
    "    for j in range(3):\n",
    "        if i > j:                      # debajo de la diagonal principal \n",
    "            A[i,j] = (i+1) - 3*(j+1)\n",
    "        elif i == j:                   # sobre la diagonal principal\n",
    "            A[i,j] = (-1)**(1+(j+1))\n",
    "        elif i < j:                    # encima de la diagonal principal \n",
    "            A[i,j] = ((i+1)-2*(j+1))/3 \n",
    "        "
   ]
  },
  {
   "cell_type": "code",
   "execution_count": 6,
   "id": "bdc681cf",
   "metadata": {
    "slideshow": {
     "slide_type": "slide"
    }
   },
   "outputs": [
    {
     "data": {
      "text/plain": [
       "array([[ 1.        , -1.        , -1.66666667],\n",
       "       [-1.        , -1.        , -1.33333333],\n",
       "       [ 0.        , -3.        ,  1.        ],\n",
       "       [ 1.        , -2.        , -5.        ],\n",
       "       [ 2.        , -1.        , -4.        ],\n",
       "       [ 3.        ,  0.        , -3.        ],\n",
       "       [ 4.        ,  1.        , -2.        ]])"
      ]
     },
     "execution_count": 6,
     "metadata": {},
     "output_type": "execute_result"
    }
   ],
   "source": [
    "A "
   ]
  },
  {
   "cell_type": "markdown",
   "id": "dacb4428",
   "metadata": {},
   "source": [
    "## Descripción verbal del ejercicio anterior. "
   ]
  },
  {
   "cell_type": "code",
   "execution_count": null,
   "id": "b05cbf76",
   "metadata": {},
   "outputs": [],
   "source": []
  }
 ],
 "metadata": {
  "celltoolbar": "Slideshow",
  "kernelspec": {
   "display_name": "Python 3 (ipykernel)",
   "language": "python",
   "name": "python3"
  },
  "language_info": {
   "codemirror_mode": {
    "name": "ipython",
    "version": 3
   },
   "file_extension": ".py",
   "mimetype": "text/x-python",
   "name": "python",
   "nbconvert_exporter": "python",
   "pygments_lexer": "ipython3",
   "version": "3.9.13"
  }
 },
 "nbformat": 4,
 "nbformat_minor": 5
}
