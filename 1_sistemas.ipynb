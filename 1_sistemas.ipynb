{
 "cells": [
  {
   "cell_type": "markdown",
   "id": "a1837c28",
   "metadata": {},
   "source": []
  },
  {
   "cell_type": "markdown",
   "id": "a0291df3",
   "metadata": {},
   "source": []
  },
  {
   "cell_type": "markdown",
   "id": "9f620a13",
   "metadata": {},
   "source": [
    "# El concepto de matriz y algunas de sus propiedades"
   ]
  },
  {
   "cell_type": "markdown",
   "id": "79fe4748",
   "metadata": {},
   "source": [
    "## Objetivo de aprendizaje"
   ]
  },
  {
   "cell_type": "markdown",
   "id": "b1502e4f",
   "metadata": {},
   "source": []
  },
  {
   "cell_type": "code",
   "execution_count": null,
   "id": "12765840",
   "metadata": {},
   "outputs": [],
   "source": []
  },
  {
   "cell_type": "code",
   "execution_count": null,
   "id": "1acf4497",
   "metadata": {},
   "outputs": [],
   "source": []
  },
  {
   "cell_type": "code",
   "execution_count": null,
   "id": "4c6edf53",
   "metadata": {},
   "outputs": [],
   "source": []
  },
  {
   "cell_type": "code",
   "execution_count": null,
   "id": "d8a7e952",
   "metadata": {},
   "outputs": [],
   "source": []
  }
 ],
 "metadata": {
  "kernelspec": {
   "display_name": "Python 3 (ipykernel)",
   "language": "python",
   "name": "python3"
  },
  "language_info": {
   "codemirror_mode": {
    "name": "ipython",
    "version": 3
   },
   "file_extension": ".py",
   "mimetype": "text/x-python",
   "name": "python",
   "nbconvert_exporter": "python",
   "pygments_lexer": "ipython3",
   "version": "3.9.13"
  }
 },
 "nbformat": 4,
 "nbformat_minor": 5
}
